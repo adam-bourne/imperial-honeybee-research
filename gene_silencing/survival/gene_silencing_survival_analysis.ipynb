{
 "cells": [
  {
   "cell_type": "code",
   "execution_count": 2,
   "id": "c16c44d4",
   "metadata": {},
   "outputs": [],
   "source": [
    "# load what we need\n",
    "library(survival)\n",
    "library(survminer)\n",
    "library(drc)\n",
    "library(tidyverse)\n",
    "library(coxphf)"
   ]
  },
  {
   "cell_type": "code",
   "execution_count": 6,
   "id": "00f87766",
   "metadata": {},
   "outputs": [
    {
     "name": "stdout",
     "output_type": "stream",
     "text": [
      "'data.frame':\t180 obs. of  15 variables:\n",
      " $ bee_code : chr  \"Hive1_Con.Scram_1\" \"Hive1_Con.Scram_2\" \"Hive1_Con.Scram_3\" \"Hive1_Con.Scram_4\" ...\n",
      " $ pot_code : chr  \"Hive1_Con.Scram\" \"Hive1_Con.Scram\" \"Hive1_Con.Scram\" \"Hive1_Con.Scram\" ...\n",
      " $ diet     : chr  \"Scramble\" \"Scramble\" \"Scramble\" \"Scramble\" ...\n",
      " $ hive     : int  1 1 1 1 1 1 1 1 1 1 ...\n",
      " $ treatment: chr  \"Con.Scram\" \"Con.Scram\" \"Con.Scram\" \"Con.Scram\" ...\n",
      " $ day_0    : int  1 1 1 1 1 1 1 1 1 1 ...\n",
      " $ day_1    : int  1 1 1 1 1 1 1 1 1 1 ...\n",
      " $ day_2    : int  1 1 1 1 1 1 1 1 1 1 ...\n",
      " $ day_3    : int  1 1 1 1 1 1 1 1 1 1 ...\n",
      " $ day_4    : int  1 1 1 1 1 1 1 1 1 1 ...\n",
      " $ day_5    : int  1 1 1 1 1 1 1 1 1 1 ...\n",
      " $ day_6    : int  1 1 1 1 1 1 1 1 1 1 ...\n",
      " $ day_7    : int  1 1 1 1 1 1 1 1 1 1 ...\n",
      " $ event    : int  0 0 0 0 0 0 0 0 0 0 ...\n",
      " $ dod      : int  7 7 7 7 7 7 7 7 7 7 ...\n"
     ]
    }
   ],
   "source": [
    "gene_silencing_survival = read.csv(\"gene_silencing_survival.csv\")\n",
    "str(gene_silencing_survival)"
   ]
  },
  {
   "cell_type": "code",
   "execution_count": 7,
   "id": "20c23146",
   "metadata": {},
   "outputs": [
    {
     "data": {
      "text/html": [
       "<table class=\"dataframe\">\n",
       "<caption>A data.frame: 6 × 15</caption>\n",
       "<thead>\n",
       "\t<tr><th></th><th scope=col>bee_code</th><th scope=col>pot_code</th><th scope=col>diet</th><th scope=col>hive</th><th scope=col>treatment</th><th scope=col>day_0</th><th scope=col>day_1</th><th scope=col>day_2</th><th scope=col>day_3</th><th scope=col>day_4</th><th scope=col>day_5</th><th scope=col>day_6</th><th scope=col>day_7</th><th scope=col>event</th><th scope=col>dod</th></tr>\n",
       "\t<tr><th></th><th scope=col>&lt;chr&gt;</th><th scope=col>&lt;chr&gt;</th><th scope=col>&lt;fct&gt;</th><th scope=col>&lt;fct&gt;</th><th scope=col>&lt;fct&gt;</th><th scope=col>&lt;int&gt;</th><th scope=col>&lt;int&gt;</th><th scope=col>&lt;int&gt;</th><th scope=col>&lt;int&gt;</th><th scope=col>&lt;int&gt;</th><th scope=col>&lt;int&gt;</th><th scope=col>&lt;int&gt;</th><th scope=col>&lt;int&gt;</th><th scope=col>&lt;int&gt;</th><th scope=col>&lt;int&gt;</th></tr>\n",
       "</thead>\n",
       "<tbody>\n",
       "\t<tr><th scope=row>1</th><td>Hive1_Con.Scram_1</td><td>Hive1_Con.Scram</td><td>Scramble</td><td>1</td><td>Con.Scram</td><td>1</td><td>1</td><td>1</td><td>1</td><td>1</td><td>1</td><td>1</td><td>1</td><td>0</td><td>7</td></tr>\n",
       "\t<tr><th scope=row>2</th><td>Hive1_Con.Scram_2</td><td>Hive1_Con.Scram</td><td>Scramble</td><td>1</td><td>Con.Scram</td><td>1</td><td>1</td><td>1</td><td>1</td><td>1</td><td>1</td><td>1</td><td>1</td><td>0</td><td>7</td></tr>\n",
       "\t<tr><th scope=row>3</th><td>Hive1_Con.Scram_3</td><td>Hive1_Con.Scram</td><td>Scramble</td><td>1</td><td>Con.Scram</td><td>1</td><td>1</td><td>1</td><td>1</td><td>1</td><td>1</td><td>1</td><td>1</td><td>0</td><td>7</td></tr>\n",
       "\t<tr><th scope=row>4</th><td>Hive1_Con.Scram_4</td><td>Hive1_Con.Scram</td><td>Scramble</td><td>1</td><td>Con.Scram</td><td>1</td><td>1</td><td>1</td><td>1</td><td>1</td><td>1</td><td>1</td><td>1</td><td>0</td><td>7</td></tr>\n",
       "\t<tr><th scope=row>5</th><td>Hive1_Con.Scram_5</td><td>Hive1_Con.Scram</td><td>Scramble</td><td>1</td><td>Con.Scram</td><td>1</td><td>1</td><td>1</td><td>1</td><td>1</td><td>1</td><td>1</td><td>1</td><td>0</td><td>7</td></tr>\n",
       "\t<tr><th scope=row>6</th><td>Hive1_Con.Scram_6</td><td>Hive1_Con.Scram</td><td>Scramble</td><td>1</td><td>Con.Scram</td><td>1</td><td>1</td><td>1</td><td>1</td><td>1</td><td>1</td><td>1</td><td>1</td><td>0</td><td>7</td></tr>\n",
       "</tbody>\n",
       "</table>\n"
      ],
      "text/latex": [
       "A data.frame: 6 × 15\n",
       "\\begin{tabular}{r|lllllllllllllll}\n",
       "  & bee\\_code & pot\\_code & diet & hive & treatment & day\\_0 & day\\_1 & day\\_2 & day\\_3 & day\\_4 & day\\_5 & day\\_6 & day\\_7 & event & dod\\\\\n",
       "  & <chr> & <chr> & <fct> & <fct> & <fct> & <int> & <int> & <int> & <int> & <int> & <int> & <int> & <int> & <int> & <int>\\\\\n",
       "\\hline\n",
       "\t1 & Hive1\\_Con.Scram\\_1 & Hive1\\_Con.Scram & Scramble & 1 & Con.Scram & 1 & 1 & 1 & 1 & 1 & 1 & 1 & 1 & 0 & 7\\\\\n",
       "\t2 & Hive1\\_Con.Scram\\_2 & Hive1\\_Con.Scram & Scramble & 1 & Con.Scram & 1 & 1 & 1 & 1 & 1 & 1 & 1 & 1 & 0 & 7\\\\\n",
       "\t3 & Hive1\\_Con.Scram\\_3 & Hive1\\_Con.Scram & Scramble & 1 & Con.Scram & 1 & 1 & 1 & 1 & 1 & 1 & 1 & 1 & 0 & 7\\\\\n",
       "\t4 & Hive1\\_Con.Scram\\_4 & Hive1\\_Con.Scram & Scramble & 1 & Con.Scram & 1 & 1 & 1 & 1 & 1 & 1 & 1 & 1 & 0 & 7\\\\\n",
       "\t5 & Hive1\\_Con.Scram\\_5 & Hive1\\_Con.Scram & Scramble & 1 & Con.Scram & 1 & 1 & 1 & 1 & 1 & 1 & 1 & 1 & 0 & 7\\\\\n",
       "\t6 & Hive1\\_Con.Scram\\_6 & Hive1\\_Con.Scram & Scramble & 1 & Con.Scram & 1 & 1 & 1 & 1 & 1 & 1 & 1 & 1 & 0 & 7\\\\\n",
       "\\end{tabular}\n"
      ],
      "text/markdown": [
       "\n",
       "A data.frame: 6 × 15\n",
       "\n",
       "| <!--/--> | bee_code &lt;chr&gt; | pot_code &lt;chr&gt; | diet &lt;fct&gt; | hive &lt;fct&gt; | treatment &lt;fct&gt; | day_0 &lt;int&gt; | day_1 &lt;int&gt; | day_2 &lt;int&gt; | day_3 &lt;int&gt; | day_4 &lt;int&gt; | day_5 &lt;int&gt; | day_6 &lt;int&gt; | day_7 &lt;int&gt; | event &lt;int&gt; | dod &lt;int&gt; |\n",
       "|---|---|---|---|---|---|---|---|---|---|---|---|---|---|---|---|\n",
       "| 1 | Hive1_Con.Scram_1 | Hive1_Con.Scram | Scramble | 1 | Con.Scram | 1 | 1 | 1 | 1 | 1 | 1 | 1 | 1 | 0 | 7 |\n",
       "| 2 | Hive1_Con.Scram_2 | Hive1_Con.Scram | Scramble | 1 | Con.Scram | 1 | 1 | 1 | 1 | 1 | 1 | 1 | 1 | 0 | 7 |\n",
       "| 3 | Hive1_Con.Scram_3 | Hive1_Con.Scram | Scramble | 1 | Con.Scram | 1 | 1 | 1 | 1 | 1 | 1 | 1 | 1 | 0 | 7 |\n",
       "| 4 | Hive1_Con.Scram_4 | Hive1_Con.Scram | Scramble | 1 | Con.Scram | 1 | 1 | 1 | 1 | 1 | 1 | 1 | 1 | 0 | 7 |\n",
       "| 5 | Hive1_Con.Scram_5 | Hive1_Con.Scram | Scramble | 1 | Con.Scram | 1 | 1 | 1 | 1 | 1 | 1 | 1 | 1 | 0 | 7 |\n",
       "| 6 | Hive1_Con.Scram_6 | Hive1_Con.Scram | Scramble | 1 | Con.Scram | 1 | 1 | 1 | 1 | 1 | 1 | 1 | 1 | 0 | 7 |\n",
       "\n"
      ],
      "text/plain": [
       "  bee_code          pot_code        diet     hive treatment day_0 day_1 day_2\n",
       "1 Hive1_Con.Scram_1 Hive1_Con.Scram Scramble 1    Con.Scram 1     1     1    \n",
       "2 Hive1_Con.Scram_2 Hive1_Con.Scram Scramble 1    Con.Scram 1     1     1    \n",
       "3 Hive1_Con.Scram_3 Hive1_Con.Scram Scramble 1    Con.Scram 1     1     1    \n",
       "4 Hive1_Con.Scram_4 Hive1_Con.Scram Scramble 1    Con.Scram 1     1     1    \n",
       "5 Hive1_Con.Scram_5 Hive1_Con.Scram Scramble 1    Con.Scram 1     1     1    \n",
       "6 Hive1_Con.Scram_6 Hive1_Con.Scram Scramble 1    Con.Scram 1     1     1    \n",
       "  day_3 day_4 day_5 day_6 day_7 event dod\n",
       "1 1     1     1     1     1     0     7  \n",
       "2 1     1     1     1     1     0     7  \n",
       "3 1     1     1     1     1     0     7  \n",
       "4 1     1     1     1     1     0     7  \n",
       "5 1     1     1     1     1     0     7  \n",
       "6 1     1     1     1     1     0     7  "
      ]
     },
     "metadata": {},
     "output_type": "display_data"
    }
   ],
   "source": [
    "# set factors where needed\n",
    "gene_silencing_survival$hive <- factor(gene_silencing_survival$hive)\n",
    "gene_silencing_survival$treatment <- factor(gene_silencing_survival$treatment)\n",
    "gene_silencing_survival$diet <- factor(gene_silencing_survival$diet)\n",
    "head(gene_silencing_survival)"
   ]
  },
  {
   "cell_type": "markdown",
   "id": "9b9fb24f",
   "metadata": {},
   "source": [
    "## 1. Using Cox Proportional Hazards to monitor effect of supplementation on survival over 9 days"
   ]
  },
  {
   "cell_type": "markdown",
   "id": "24644ec0",
   "metadata": {},
   "source": [
    "### 1a - Create propertion dataframe collapsed by pot"
   ]
  },
  {
   "cell_type": "code",
   "execution_count": 14,
   "id": "f6d87a5f",
   "metadata": {},
   "outputs": [
    {
     "data": {
      "text/html": [
       "<table class=\"dataframe\">\n",
       "<caption>A grouped_df: 18 × 12</caption>\n",
       "<thead>\n",
       "\t<tr><th scope=col>diet</th><th scope=col>hive</th><th scope=col>pot_code</th><th scope=col>treatment</th><th scope=col>day_0_sum</th><th scope=col>day_1_sum</th><th scope=col>day_2_sum</th><th scope=col>day_3_sum</th><th scope=col>day_4_sum</th><th scope=col>day_5_sum</th><th scope=col>day_6_sum</th><th scope=col>day_7_sum</th></tr>\n",
       "\t<tr><th scope=col>&lt;fct&gt;</th><th scope=col>&lt;fct&gt;</th><th scope=col>&lt;chr&gt;</th><th scope=col>&lt;fct&gt;</th><th scope=col>&lt;dbl&gt;</th><th scope=col>&lt;dbl&gt;</th><th scope=col>&lt;dbl&gt;</th><th scope=col>&lt;dbl&gt;</th><th scope=col>&lt;dbl&gt;</th><th scope=col>&lt;dbl&gt;</th><th scope=col>&lt;dbl&gt;</th><th scope=col>&lt;dbl&gt;</th></tr>\n",
       "</thead>\n",
       "<tbody>\n",
       "\t<tr><td>Relish  </td><td>1</td><td>Hive1_Con.RNAi </td><td>Con.RNAi </td><td>1</td><td>1</td><td>1</td><td>1</td><td>1.0</td><td>1.0</td><td>1.0</td><td>1.0</td></tr>\n",
       "\t<tr><td>Relish  </td><td>1</td><td>Hive1_Nos.RNAi </td><td>Nos.RNAi </td><td>1</td><td>1</td><td>1</td><td>1</td><td>1.0</td><td>1.0</td><td>1.0</td><td>1.0</td></tr>\n",
       "\t<tr><td>Relish  </td><td>2</td><td>Hive2_Con.RNAi </td><td>Con.RNAi </td><td>1</td><td>1</td><td>1</td><td>1</td><td>1.0</td><td>1.0</td><td>1.0</td><td>1.0</td></tr>\n",
       "\t<tr><td>Relish  </td><td>2</td><td>Hive2_Nos.RNAi </td><td>Nos.RNAi </td><td>1</td><td>1</td><td>1</td><td>1</td><td>1.0</td><td>1.0</td><td>1.0</td><td>1.0</td></tr>\n",
       "\t<tr><td>Relish  </td><td>3</td><td>Hive3_Con.RNAi </td><td>Con.RNAi </td><td>1</td><td>1</td><td>1</td><td>1</td><td>1.0</td><td>1.0</td><td>1.0</td><td>0.9</td></tr>\n",
       "\t<tr><td>Relish  </td><td>3</td><td>Hive3_Nos.RNAi </td><td>Nos.RNAi </td><td>1</td><td>1</td><td>1</td><td>1</td><td>1.0</td><td>1.0</td><td>1.0</td><td>1.0</td></tr>\n",
       "\t<tr><td>Scramble</td><td>1</td><td>Hive1_Con.Scram</td><td>Con.Scram</td><td>1</td><td>1</td><td>1</td><td>1</td><td>1.0</td><td>1.0</td><td>1.0</td><td>1.0</td></tr>\n",
       "\t<tr><td>Scramble</td><td>1</td><td>Hive1_Nos.Scram</td><td>Nos.Scram</td><td>1</td><td>1</td><td>1</td><td>1</td><td>1.0</td><td>1.0</td><td>1.0</td><td>1.0</td></tr>\n",
       "\t<tr><td>Scramble</td><td>2</td><td>Hive2_Con.Scram</td><td>Con.Scram</td><td>1</td><td>1</td><td>1</td><td>1</td><td>0.9</td><td>0.9</td><td>0.9</td><td>0.9</td></tr>\n",
       "\t<tr><td>Scramble</td><td>2</td><td>Hive2_Nos.Scram</td><td>Nos.Scram</td><td>1</td><td>1</td><td>1</td><td>1</td><td>1.0</td><td>1.0</td><td>1.0</td><td>1.0</td></tr>\n",
       "\t<tr><td>Scramble</td><td>3</td><td>Hive3_Con.Scram</td><td>Con.Scram</td><td>1</td><td>1</td><td>1</td><td>1</td><td>1.0</td><td>1.0</td><td>0.9</td><td>0.9</td></tr>\n",
       "\t<tr><td>Scramble</td><td>3</td><td>Hive3_Nos.Scram</td><td>Nos.Scram</td><td>1</td><td>1</td><td>1</td><td>1</td><td>1.0</td><td>1.0</td><td>1.0</td><td>0.7</td></tr>\n",
       "\t<tr><td>Sucrose </td><td>1</td><td>Hive1_Con.Suc  </td><td>Con.Suc  </td><td>1</td><td>1</td><td>1</td><td>1</td><td>1.0</td><td>1.0</td><td>1.0</td><td>1.0</td></tr>\n",
       "\t<tr><td>Sucrose </td><td>1</td><td>Hive1_Nos.Suc  </td><td>Nos.Suc  </td><td>1</td><td>1</td><td>1</td><td>1</td><td>1.0</td><td>1.0</td><td>1.0</td><td>1.0</td></tr>\n",
       "\t<tr><td>Sucrose </td><td>2</td><td>Hive2_Con.Suc  </td><td>Con.Suc  </td><td>1</td><td>1</td><td>1</td><td>1</td><td>1.0</td><td>1.0</td><td>1.0</td><td>1.0</td></tr>\n",
       "\t<tr><td>Sucrose </td><td>2</td><td>Hive2_Nos.Suc  </td><td>Nos.Suc  </td><td>1</td><td>1</td><td>1</td><td>1</td><td>1.0</td><td>1.0</td><td>1.0</td><td>1.0</td></tr>\n",
       "\t<tr><td>Sucrose </td><td>3</td><td>Hive3_Con.Suc  </td><td>Con.Suc  </td><td>1</td><td>1</td><td>1</td><td>1</td><td>1.0</td><td>1.0</td><td>0.9</td><td>0.9</td></tr>\n",
       "\t<tr><td>Sucrose </td><td>3</td><td>Hive3_Nos.Suc  </td><td>Nos.Suc  </td><td>1</td><td>1</td><td>1</td><td>1</td><td>1.0</td><td>1.0</td><td>0.9</td><td>0.7</td></tr>\n",
       "</tbody>\n",
       "</table>\n"
      ],
      "text/latex": [
       "A grouped\\_df: 18 × 12\n",
       "\\begin{tabular}{llllllllllll}\n",
       " diet & hive & pot\\_code & treatment & day\\_0\\_sum & day\\_1\\_sum & day\\_2\\_sum & day\\_3\\_sum & day\\_4\\_sum & day\\_5\\_sum & day\\_6\\_sum & day\\_7\\_sum\\\\\n",
       " <fct> & <fct> & <chr> & <fct> & <dbl> & <dbl> & <dbl> & <dbl> & <dbl> & <dbl> & <dbl> & <dbl>\\\\\n",
       "\\hline\n",
       "\t Relish   & 1 & Hive1\\_Con.RNAi  & Con.RNAi  & 1 & 1 & 1 & 1 & 1.0 & 1.0 & 1.0 & 1.0\\\\\n",
       "\t Relish   & 1 & Hive1\\_Nos.RNAi  & Nos.RNAi  & 1 & 1 & 1 & 1 & 1.0 & 1.0 & 1.0 & 1.0\\\\\n",
       "\t Relish   & 2 & Hive2\\_Con.RNAi  & Con.RNAi  & 1 & 1 & 1 & 1 & 1.0 & 1.0 & 1.0 & 1.0\\\\\n",
       "\t Relish   & 2 & Hive2\\_Nos.RNAi  & Nos.RNAi  & 1 & 1 & 1 & 1 & 1.0 & 1.0 & 1.0 & 1.0\\\\\n",
       "\t Relish   & 3 & Hive3\\_Con.RNAi  & Con.RNAi  & 1 & 1 & 1 & 1 & 1.0 & 1.0 & 1.0 & 0.9\\\\\n",
       "\t Relish   & 3 & Hive3\\_Nos.RNAi  & Nos.RNAi  & 1 & 1 & 1 & 1 & 1.0 & 1.0 & 1.0 & 1.0\\\\\n",
       "\t Scramble & 1 & Hive1\\_Con.Scram & Con.Scram & 1 & 1 & 1 & 1 & 1.0 & 1.0 & 1.0 & 1.0\\\\\n",
       "\t Scramble & 1 & Hive1\\_Nos.Scram & Nos.Scram & 1 & 1 & 1 & 1 & 1.0 & 1.0 & 1.0 & 1.0\\\\\n",
       "\t Scramble & 2 & Hive2\\_Con.Scram & Con.Scram & 1 & 1 & 1 & 1 & 0.9 & 0.9 & 0.9 & 0.9\\\\\n",
       "\t Scramble & 2 & Hive2\\_Nos.Scram & Nos.Scram & 1 & 1 & 1 & 1 & 1.0 & 1.0 & 1.0 & 1.0\\\\\n",
       "\t Scramble & 3 & Hive3\\_Con.Scram & Con.Scram & 1 & 1 & 1 & 1 & 1.0 & 1.0 & 0.9 & 0.9\\\\\n",
       "\t Scramble & 3 & Hive3\\_Nos.Scram & Nos.Scram & 1 & 1 & 1 & 1 & 1.0 & 1.0 & 1.0 & 0.7\\\\\n",
       "\t Sucrose  & 1 & Hive1\\_Con.Suc   & Con.Suc   & 1 & 1 & 1 & 1 & 1.0 & 1.0 & 1.0 & 1.0\\\\\n",
       "\t Sucrose  & 1 & Hive1\\_Nos.Suc   & Nos.Suc   & 1 & 1 & 1 & 1 & 1.0 & 1.0 & 1.0 & 1.0\\\\\n",
       "\t Sucrose  & 2 & Hive2\\_Con.Suc   & Con.Suc   & 1 & 1 & 1 & 1 & 1.0 & 1.0 & 1.0 & 1.0\\\\\n",
       "\t Sucrose  & 2 & Hive2\\_Nos.Suc   & Nos.Suc   & 1 & 1 & 1 & 1 & 1.0 & 1.0 & 1.0 & 1.0\\\\\n",
       "\t Sucrose  & 3 & Hive3\\_Con.Suc   & Con.Suc   & 1 & 1 & 1 & 1 & 1.0 & 1.0 & 0.9 & 0.9\\\\\n",
       "\t Sucrose  & 3 & Hive3\\_Nos.Suc   & Nos.Suc   & 1 & 1 & 1 & 1 & 1.0 & 1.0 & 0.9 & 0.7\\\\\n",
       "\\end{tabular}\n"
      ],
      "text/markdown": [
       "\n",
       "A grouped_df: 18 × 12\n",
       "\n",
       "| diet &lt;fct&gt; | hive &lt;fct&gt; | pot_code &lt;chr&gt; | treatment &lt;fct&gt; | day_0_sum &lt;dbl&gt; | day_1_sum &lt;dbl&gt; | day_2_sum &lt;dbl&gt; | day_3_sum &lt;dbl&gt; | day_4_sum &lt;dbl&gt; | day_5_sum &lt;dbl&gt; | day_6_sum &lt;dbl&gt; | day_7_sum &lt;dbl&gt; |\n",
       "|---|---|---|---|---|---|---|---|---|---|---|---|\n",
       "| Relish   | 1 | Hive1_Con.RNAi  | Con.RNAi  | 1 | 1 | 1 | 1 | 1.0 | 1.0 | 1.0 | 1.0 |\n",
       "| Relish   | 1 | Hive1_Nos.RNAi  | Nos.RNAi  | 1 | 1 | 1 | 1 | 1.0 | 1.0 | 1.0 | 1.0 |\n",
       "| Relish   | 2 | Hive2_Con.RNAi  | Con.RNAi  | 1 | 1 | 1 | 1 | 1.0 | 1.0 | 1.0 | 1.0 |\n",
       "| Relish   | 2 | Hive2_Nos.RNAi  | Nos.RNAi  | 1 | 1 | 1 | 1 | 1.0 | 1.0 | 1.0 | 1.0 |\n",
       "| Relish   | 3 | Hive3_Con.RNAi  | Con.RNAi  | 1 | 1 | 1 | 1 | 1.0 | 1.0 | 1.0 | 0.9 |\n",
       "| Relish   | 3 | Hive3_Nos.RNAi  | Nos.RNAi  | 1 | 1 | 1 | 1 | 1.0 | 1.0 | 1.0 | 1.0 |\n",
       "| Scramble | 1 | Hive1_Con.Scram | Con.Scram | 1 | 1 | 1 | 1 | 1.0 | 1.0 | 1.0 | 1.0 |\n",
       "| Scramble | 1 | Hive1_Nos.Scram | Nos.Scram | 1 | 1 | 1 | 1 | 1.0 | 1.0 | 1.0 | 1.0 |\n",
       "| Scramble | 2 | Hive2_Con.Scram | Con.Scram | 1 | 1 | 1 | 1 | 0.9 | 0.9 | 0.9 | 0.9 |\n",
       "| Scramble | 2 | Hive2_Nos.Scram | Nos.Scram | 1 | 1 | 1 | 1 | 1.0 | 1.0 | 1.0 | 1.0 |\n",
       "| Scramble | 3 | Hive3_Con.Scram | Con.Scram | 1 | 1 | 1 | 1 | 1.0 | 1.0 | 0.9 | 0.9 |\n",
       "| Scramble | 3 | Hive3_Nos.Scram | Nos.Scram | 1 | 1 | 1 | 1 | 1.0 | 1.0 | 1.0 | 0.7 |\n",
       "| Sucrose  | 1 | Hive1_Con.Suc   | Con.Suc   | 1 | 1 | 1 | 1 | 1.0 | 1.0 | 1.0 | 1.0 |\n",
       "| Sucrose  | 1 | Hive1_Nos.Suc   | Nos.Suc   | 1 | 1 | 1 | 1 | 1.0 | 1.0 | 1.0 | 1.0 |\n",
       "| Sucrose  | 2 | Hive2_Con.Suc   | Con.Suc   | 1 | 1 | 1 | 1 | 1.0 | 1.0 | 1.0 | 1.0 |\n",
       "| Sucrose  | 2 | Hive2_Nos.Suc   | Nos.Suc   | 1 | 1 | 1 | 1 | 1.0 | 1.0 | 1.0 | 1.0 |\n",
       "| Sucrose  | 3 | Hive3_Con.Suc   | Con.Suc   | 1 | 1 | 1 | 1 | 1.0 | 1.0 | 0.9 | 0.9 |\n",
       "| Sucrose  | 3 | Hive3_Nos.Suc   | Nos.Suc   | 1 | 1 | 1 | 1 | 1.0 | 1.0 | 0.9 | 0.7 |\n",
       "\n"
      ],
      "text/plain": [
       "   diet     hive pot_code        treatment day_0_sum day_1_sum day_2_sum\n",
       "1  Relish   1    Hive1_Con.RNAi  Con.RNAi  1         1         1        \n",
       "2  Relish   1    Hive1_Nos.RNAi  Nos.RNAi  1         1         1        \n",
       "3  Relish   2    Hive2_Con.RNAi  Con.RNAi  1         1         1        \n",
       "4  Relish   2    Hive2_Nos.RNAi  Nos.RNAi  1         1         1        \n",
       "5  Relish   3    Hive3_Con.RNAi  Con.RNAi  1         1         1        \n",
       "6  Relish   3    Hive3_Nos.RNAi  Nos.RNAi  1         1         1        \n",
       "7  Scramble 1    Hive1_Con.Scram Con.Scram 1         1         1        \n",
       "8  Scramble 1    Hive1_Nos.Scram Nos.Scram 1         1         1        \n",
       "9  Scramble 2    Hive2_Con.Scram Con.Scram 1         1         1        \n",
       "10 Scramble 2    Hive2_Nos.Scram Nos.Scram 1         1         1        \n",
       "11 Scramble 3    Hive3_Con.Scram Con.Scram 1         1         1        \n",
       "12 Scramble 3    Hive3_Nos.Scram Nos.Scram 1         1         1        \n",
       "13 Sucrose  1    Hive1_Con.Suc   Con.Suc   1         1         1        \n",
       "14 Sucrose  1    Hive1_Nos.Suc   Nos.Suc   1         1         1        \n",
       "15 Sucrose  2    Hive2_Con.Suc   Con.Suc   1         1         1        \n",
       "16 Sucrose  2    Hive2_Nos.Suc   Nos.Suc   1         1         1        \n",
       "17 Sucrose  3    Hive3_Con.Suc   Con.Suc   1         1         1        \n",
       "18 Sucrose  3    Hive3_Nos.Suc   Nos.Suc   1         1         1        \n",
       "   day_3_sum day_4_sum day_5_sum day_6_sum day_7_sum\n",
       "1  1         1.0       1.0       1.0       1.0      \n",
       "2  1         1.0       1.0       1.0       1.0      \n",
       "3  1         1.0       1.0       1.0       1.0      \n",
       "4  1         1.0       1.0       1.0       1.0      \n",
       "5  1         1.0       1.0       1.0       0.9      \n",
       "6  1         1.0       1.0       1.0       1.0      \n",
       "7  1         1.0       1.0       1.0       1.0      \n",
       "8  1         1.0       1.0       1.0       1.0      \n",
       "9  1         0.9       0.9       0.9       0.9      \n",
       "10 1         1.0       1.0       1.0       1.0      \n",
       "11 1         1.0       1.0       0.9       0.9      \n",
       "12 1         1.0       1.0       1.0       0.7      \n",
       "13 1         1.0       1.0       1.0       1.0      \n",
       "14 1         1.0       1.0       1.0       1.0      \n",
       "15 1         1.0       1.0       1.0       1.0      \n",
       "16 1         1.0       1.0       1.0       1.0      \n",
       "17 1         1.0       1.0       0.9       0.9      \n",
       "18 1         1.0       1.0       0.9       0.7      "
      ]
     },
     "metadata": {},
     "output_type": "display_data"
    }
   ],
   "source": [
    "# group data by pot\n",
    "rnai_pot <- subset(gene_silencing_survival, select = -c(bee_code, dod, event))\n",
    "rnai_pot <- rnai_pot %>% group_by(diet, hive, pot_code, treatment) %>% summarise_all(list(\"sum\" = sum))\n",
    "\n",
    "# convert frequencies to proportions\n",
    "rnai_pot[, -(1:4)] <- sweep(rnai_pot[, -(1:4)], unlist(rnai_pot[, \"day_0_sum\"]), MARGIN = 1, \"/\")\n",
    "rnai_pot"
   ]
  },
  {
   "cell_type": "markdown",
   "id": "74401532",
   "metadata": {},
   "source": [
    "### 1b - Make summary survival tables form the pot tables"
   ]
  },
  {
   "cell_type": "code",
   "execution_count": 16,
   "id": "67a5115e",
   "metadata": {},
   "outputs": [
    {
     "data": {
      "text/html": [
       "<table class=\"dataframe\">\n",
       "<caption>A tibble: 6 × 9</caption>\n",
       "<thead>\n",
       "\t<tr><th scope=col>treatment</th><th scope=col>day_0_sum_mean</th><th scope=col>day_1_sum_mean</th><th scope=col>day_2_sum_mean</th><th scope=col>day_3_sum_mean</th><th scope=col>day_4_sum_mean</th><th scope=col>day_5_sum_mean</th><th scope=col>day_6_sum_mean</th><th scope=col>day_7_sum_mean</th></tr>\n",
       "\t<tr><th scope=col>&lt;fct&gt;</th><th scope=col>&lt;dbl&gt;</th><th scope=col>&lt;dbl&gt;</th><th scope=col>&lt;dbl&gt;</th><th scope=col>&lt;dbl&gt;</th><th scope=col>&lt;dbl&gt;</th><th scope=col>&lt;dbl&gt;</th><th scope=col>&lt;dbl&gt;</th><th scope=col>&lt;dbl&gt;</th></tr>\n",
       "</thead>\n",
       "<tbody>\n",
       "\t<tr><td>Con.RNAi </td><td>1</td><td>1</td><td>1</td><td>1</td><td>1.0000000</td><td>1.0000000</td><td>1.0000000</td><td>0.9666667</td></tr>\n",
       "\t<tr><td>Con.Scram</td><td>1</td><td>1</td><td>1</td><td>1</td><td>0.9666667</td><td>0.9666667</td><td>0.9333333</td><td>0.9333333</td></tr>\n",
       "\t<tr><td>Con.Suc  </td><td>1</td><td>1</td><td>1</td><td>1</td><td>1.0000000</td><td>1.0000000</td><td>0.9666667</td><td>0.9666667</td></tr>\n",
       "\t<tr><td>Nos.RNAi </td><td>1</td><td>1</td><td>1</td><td>1</td><td>1.0000000</td><td>1.0000000</td><td>1.0000000</td><td>1.0000000</td></tr>\n",
       "\t<tr><td>Nos.Scram</td><td>1</td><td>1</td><td>1</td><td>1</td><td>1.0000000</td><td>1.0000000</td><td>1.0000000</td><td>0.9000000</td></tr>\n",
       "\t<tr><td>Nos.Suc  </td><td>1</td><td>1</td><td>1</td><td>1</td><td>1.0000000</td><td>1.0000000</td><td>0.9666667</td><td>0.9000000</td></tr>\n",
       "</tbody>\n",
       "</table>\n"
      ],
      "text/latex": [
       "A tibble: 6 × 9\n",
       "\\begin{tabular}{lllllllll}\n",
       " treatment & day\\_0\\_sum\\_mean & day\\_1\\_sum\\_mean & day\\_2\\_sum\\_mean & day\\_3\\_sum\\_mean & day\\_4\\_sum\\_mean & day\\_5\\_sum\\_mean & day\\_6\\_sum\\_mean & day\\_7\\_sum\\_mean\\\\\n",
       " <fct> & <dbl> & <dbl> & <dbl> & <dbl> & <dbl> & <dbl> & <dbl> & <dbl>\\\\\n",
       "\\hline\n",
       "\t Con.RNAi  & 1 & 1 & 1 & 1 & 1.0000000 & 1.0000000 & 1.0000000 & 0.9666667\\\\\n",
       "\t Con.Scram & 1 & 1 & 1 & 1 & 0.9666667 & 0.9666667 & 0.9333333 & 0.9333333\\\\\n",
       "\t Con.Suc   & 1 & 1 & 1 & 1 & 1.0000000 & 1.0000000 & 0.9666667 & 0.9666667\\\\\n",
       "\t Nos.RNAi  & 1 & 1 & 1 & 1 & 1.0000000 & 1.0000000 & 1.0000000 & 1.0000000\\\\\n",
       "\t Nos.Scram & 1 & 1 & 1 & 1 & 1.0000000 & 1.0000000 & 1.0000000 & 0.9000000\\\\\n",
       "\t Nos.Suc   & 1 & 1 & 1 & 1 & 1.0000000 & 1.0000000 & 0.9666667 & 0.9000000\\\\\n",
       "\\end{tabular}\n"
      ],
      "text/markdown": [
       "\n",
       "A tibble: 6 × 9\n",
       "\n",
       "| treatment &lt;fct&gt; | day_0_sum_mean &lt;dbl&gt; | day_1_sum_mean &lt;dbl&gt; | day_2_sum_mean &lt;dbl&gt; | day_3_sum_mean &lt;dbl&gt; | day_4_sum_mean &lt;dbl&gt; | day_5_sum_mean &lt;dbl&gt; | day_6_sum_mean &lt;dbl&gt; | day_7_sum_mean &lt;dbl&gt; |\n",
       "|---|---|---|---|---|---|---|---|---|\n",
       "| Con.RNAi  | 1 | 1 | 1 | 1 | 1.0000000 | 1.0000000 | 1.0000000 | 0.9666667 |\n",
       "| Con.Scram | 1 | 1 | 1 | 1 | 0.9666667 | 0.9666667 | 0.9333333 | 0.9333333 |\n",
       "| Con.Suc   | 1 | 1 | 1 | 1 | 1.0000000 | 1.0000000 | 0.9666667 | 0.9666667 |\n",
       "| Nos.RNAi  | 1 | 1 | 1 | 1 | 1.0000000 | 1.0000000 | 1.0000000 | 1.0000000 |\n",
       "| Nos.Scram | 1 | 1 | 1 | 1 | 1.0000000 | 1.0000000 | 1.0000000 | 0.9000000 |\n",
       "| Nos.Suc   | 1 | 1 | 1 | 1 | 1.0000000 | 1.0000000 | 0.9666667 | 0.9000000 |\n",
       "\n"
      ],
      "text/plain": [
       "  treatment day_0_sum_mean day_1_sum_mean day_2_sum_mean day_3_sum_mean\n",
       "1 Con.RNAi  1              1              1              1             \n",
       "2 Con.Scram 1              1              1              1             \n",
       "3 Con.Suc   1              1              1              1             \n",
       "4 Nos.RNAi  1              1              1              1             \n",
       "5 Nos.Scram 1              1              1              1             \n",
       "6 Nos.Suc   1              1              1              1             \n",
       "  day_4_sum_mean day_5_sum_mean day_6_sum_mean day_7_sum_mean\n",
       "1 1.0000000      1.0000000      1.0000000      0.9666667     \n",
       "2 0.9666667      0.9666667      0.9333333      0.9333333     \n",
       "3 1.0000000      1.0000000      0.9666667      0.9666667     \n",
       "4 1.0000000      1.0000000      1.0000000      1.0000000     \n",
       "5 1.0000000      1.0000000      1.0000000      0.9000000     \n",
       "6 1.0000000      1.0000000      0.9666667      0.9000000     "
      ]
     },
     "metadata": {},
     "output_type": "display_data"
    }
   ],
   "source": [
    "# now all the calculations are done, we can make a survival table to display the data\n",
    "rnai.treatment = subset(rnai_pot, select = -c(diet, hive, pot_code))\n",
    "rnai.treat.sum <- rnai.treatment %>% group_by(treatment) %>% summarise_all(list(\"mean\" = mean))\n",
    "rnai.treat.sum\n",
    "# complete survival in Nos.RNAi (one without Relish) which is unexpected, if relish was important you would think that\n",
    "# bees without it would suffer higher mortality. We will have to find out if this is significant"
   ]
  },
  {
   "cell_type": "markdown",
   "id": "82232ab0",
   "metadata": {},
   "source": [
    "## 3. Plotting the survival probability data"
   ]
  },
  {
   "cell_type": "code",
   "execution_count": 18,
   "id": "f8a18c7f",
   "metadata": {},
   "outputs": [
    {
     "name": "stderr",
     "output_type": "stream",
     "text": [
      "Warning message in .add_surv_median(p, fit, type = surv.median.line, fun = fun, :\n",
      "“Median survival not reached.”\n"
     ]
    },
    {
     "data": {
      "image/png": "[encoded data removed]",
      "text/plain": [
       "plot without title"
      ]
     },
     "metadata": {
      "image/png": {
       "height": 420,
       "width": 420
      }
     },
     "output_type": "display_data"
    }
   ],
   "source": [
    "# now we have summarised the data by treatment, it is now time to analyse it\n",
    "# we can run fit function plots to look at the data\n",
    "\n",
    "survfit.rnai <- survfit(Surv(dod, event) ~ treatment, data = gene_silencing_survival) \n",
    "# this gives a basic view of the data which we can use to generate a figure\n",
    "\n",
    "# then creat a Kaplan-Meier curve with the nektapoll treatments\n",
    "km.rnai <- ggsurvplot(survfit.rnai, data = gene_silencing_survival, pval = FALSE, pval.size =3, pval.method = FALSE,\n",
    "                      pval.coord = c(0.0, 0.1), pval.method.size = 3, pval.method.coord = c(0.0, 0.2),\n",
    "                      title = \"\", \n",
    "                      font.main = c(16, \"bold\"), font.y = 15,\n",
    "                      font.x =15, font.tickslab = 8, xlab = \"Time (days)\", font.legend=8, legend.labs =\n",
    "                        c(\"Con.RNAi\", \"Con.Scram\", \"Con.Suc\", \"Nos.RNAi\", \"Nos.Scram\", \"Nos.Suc\"), \n",
    "                      legend.title = \"Treatment:\", time.inc = 1, xlim = c(0,7), palette= \"npg\", linetype = \"solid\", \n",
    "                      surv.median.line = \"h\", legend = \"top\", break.time.by = 1)\n",
    "km.rnai\n",
    "# not very informative. Only 10 deaths across the whole experiment means that all \n",
    "# treatments are pretty close and basically indistinguishable. No.RNAi has the highest\n",
    "# survival. Can't think it will be significant though given the similarity in mortality"
   ]
  },
  {
   "cell_type": "markdown",
   "id": "6829c028",
   "metadata": {},
   "source": [
    "## 4. Statistical Comparison of the treatments"
   ]
  },
  {
   "cell_type": "code",
   "execution_count": 22,
   "id": "81010825",
   "metadata": {},
   "outputs": [
    {
     "data": {
      "text/plain": [
       "coxphf(formula = Surv(dod, event) ~ treatment + hive, data = gene_silencing_survival)\n",
       "Model fitted by Penalized ML\n",
       "Confidence intervals and p-values by Profile Likelihood \n",
       "\n",
       "                          coef se(coef)  exp(coef)  lower 0.95  upper 0.95\n",
       "treatmentCon.Scram  0.57672759 1.178342  1.7802033 0.236762097   19.456234\n",
       "treatmentCon.Suc    0.05580509 1.316562  1.0573916 0.085867027   13.021024\n",
       "treatmentNos.RNAi  -1.09861200 1.863487  0.3333334 0.002284353    6.248405\n",
       "treatmentNos.Scram  0.84729811 1.113646  2.3333339 0.383951325   24.071364\n",
       "treatmentNos.Suc    0.90310315 1.113139  2.4672475 0.405880276   25.456969\n",
       "hive2               1.11730451 1.752155  3.0566040 0.163045264  446.037621\n",
       "hive3               2.98267535 1.556921 19.7405590 2.508259900 2545.001867\n",
       "                          Chisq           p\n",
       "treatmentCon.Scram  0.322840607 0.569905524\n",
       "treatmentCon.Suc    0.002334915 0.961460449\n",
       "treatmentNos.RNAi   0.523248144 0.469459396\n",
       "treatmentNos.Scram  0.822828785 0.364354392\n",
       "treatmentNos.Suc    0.938046790 0.332780664\n",
       "hive2               0.542075353 0.461573903\n",
       "hive3              10.236206371 0.001377105\n",
       "\n",
       "Likelihood ratio test=16.55761 on 7 df, p=0.02048262, n=180\n"
      ]
     },
     "metadata": {},
     "output_type": "display_data"
    }
   ],
   "source": [
    "# I will need to run Cox Proportional Hazards with Firth's penalised likelihood here (coxphf) because we had treatments\n",
    "# with no deaths, which causes monotone likelihood and causes the model not to converge. \n",
    "rnai.coxphf <- coxphf(Surv(dod, event) ~ treatment + hive, data = gene_silencing_survival)\n",
    "rnai.coxphf\n",
    "# no significant different between treatments, suggesting that over 9 days the Relish gene does not provide any\n",
    "# enhanced immune response to nosema"
   ]
  },
  {
   "cell_type": "code",
   "execution_count": 26,
   "id": "39ea6de8",
   "metadata": {},
   "outputs": [
    {
     "name": "stderr",
     "output_type": "stream",
     "text": [
      "Warning message in coxph.fit(X, Y, istrat, offset, init, control, weights = weights, :\n",
      "“Loglik converged before variable  3,6,7 ; coefficient may be infinite. ”\n"
     ]
    },
    {
     "data": {
      "text/plain": [
       "          chisq df    p\n",
       "treatment  7.68  5 0.17\n",
       "hive       3.37  2 0.19\n",
       "GLOBAL    11.13  7 0.13"
      ]
     },
     "metadata": {},
     "output_type": "display_data"
    }
   ],
   "source": [
    "# then check that we don't violate assumptions of coxph. BUT as i couldn't run a coxph i will have to create\n",
    "# a fake coxph model to test the assumptions\n",
    "\n",
    "rnai.coxphf.validation <- coxph(Surv(dod, event) ~ treatment + hive, data = gene_silencing_survival)\n",
    "rnai.coxphf.coxassump = cox.zph(rnai.coxphf.validation)\n",
    "rnai.coxphf.coxassump\n",
    "# all bigger than 0.05 so no violations there"
   ]
  },
  {
   "cell_type": "code",
   "execution_count": null,
   "id": "28459634",
   "metadata": {},
   "outputs": [],
   "source": []
  }
 ],
 "metadata": {
  "kernelspec": {
   "display_name": "R",
   "language": "R",
   "name": "ir"
  },
  "language_info": {
   "codemirror_mode": "r",
   "file_extension": ".r",
   "mimetype": "text/x-r-source",
   "name": "R",
   "pygments_lexer": "r",
   "version": "4.3.1"
  }
 },
 "nbformat": 4,
 "nbformat_minor": 5
}
