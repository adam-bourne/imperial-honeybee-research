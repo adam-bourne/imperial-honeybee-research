{
 "cells": [
  {
   "cell_type": "code",
   "execution_count": 3,
   "id": "8f54434d",
   "metadata": {},
   "outputs": [],
   "source": [
    "# load what we need\n",
    "library(survival)\n",
    "library(survminer)\n",
    "library(drc)\n",
    "library(tidyverse)\n",
    "library(coxphf)"
   ]
  },
  {
   "cell_type": "code",
   "execution_count": 16,
   "id": "78bcd465",
   "metadata": {},
   "outputs": [
    {
     "name": "stdout",
     "output_type": "stream",
     "text": [
      "'data.frame':\t320 obs. of  18 variables:\n",
      " $ bee_code : chr  \"Hive1_NC_1\" \"Hive1_NC_2\" \"Hive1_NC_3\" \"Hive1_NC_4\" ...\n",
      " $ pot_code : chr  \"Hive1_NC\" \"Hive1_NC\" \"Hive1_NC\" \"Hive1_NC\" ...\n",
      " $ diet     : chr  \"Nektapoll\" \"Nektapoll\" \"Nektapoll\" \"Nektapoll\" ...\n",
      " $ infection: chr  \"non\" \"non\" \"non\" \"non\" ...\n",
      " $ hive     : int  1 1 1 1 1 1 1 1 1 1 ...\n",
      " $ treatment: chr  \"Nektapoll-Control\" \"Nektapoll-Control\" \"Nektapoll-Control\" \"Nektapoll-Control\" ...\n",
      " $ day_0    : int  1 1 1 1 1 1 1 1 1 1 ...\n",
      " $ day_1    : int  1 1 1 1 1 1 1 1 1 1 ...\n",
      " $ day_2    : int  1 1 1 1 1 1 1 1 1 1 ...\n",
      " $ day_3    : int  1 1 1 1 1 1 1 1 1 1 ...\n",
      " $ day_4    : int  1 1 1 1 1 1 1 1 1 1 ...\n",
      " $ day_5    : int  1 1 1 1 1 1 1 1 1 1 ...\n",
      " $ day_6    : int  0 1 1 1 1 1 1 1 1 1 ...\n",
      " $ day_7    : int  0 1 1 1 1 1 1 1 1 1 ...\n",
      " $ day_8    : int  0 1 1 1 1 1 1 1 1 1 ...\n",
      " $ day_9    : int  0 0 1 1 1 1 1 1 1 1 ...\n",
      " $ event    : int  1 1 0 0 0 0 0 0 0 0 ...\n",
      " $ dod      : int  6 9 9 9 9 9 9 9 9 9 ...\n"
     ]
    }
   ],
   "source": [
    "supplementation_survival <- read.csv(\"supplementation_survival.csv\")\n",
    "str(supplementation_survival)"
   ]
  },
  {
   "cell_type": "code",
   "execution_count": 37,
   "id": "d7cbcf52",
   "metadata": {},
   "outputs": [
    {
     "data": {
      "text/html": [
       "<table class=\"dataframe\">\n",
       "<caption>A data.frame: 6 × 18</caption>\n",
       "<thead>\n",
       "\t<tr><th></th><th scope=col>bee_code</th><th scope=col>pot_code</th><th scope=col>diet</th><th scope=col>infection</th><th scope=col>hive</th><th scope=col>treatment</th><th scope=col>day_0</th><th scope=col>day_1</th><th scope=col>day_2</th><th scope=col>day_3</th><th scope=col>day_4</th><th scope=col>day_5</th><th scope=col>day_6</th><th scope=col>day_7</th><th scope=col>day_8</th><th scope=col>day_9</th><th scope=col>event</th><th scope=col>dod</th></tr>\n",
       "\t<tr><th></th><th scope=col>&lt;chr&gt;</th><th scope=col>&lt;chr&gt;</th><th scope=col>&lt;chr&gt;</th><th scope=col>&lt;chr&gt;</th><th scope=col>&lt;fct&gt;</th><th scope=col>&lt;fct&gt;</th><th scope=col>&lt;int&gt;</th><th scope=col>&lt;int&gt;</th><th scope=col>&lt;int&gt;</th><th scope=col>&lt;int&gt;</th><th scope=col>&lt;int&gt;</th><th scope=col>&lt;int&gt;</th><th scope=col>&lt;int&gt;</th><th scope=col>&lt;int&gt;</th><th scope=col>&lt;int&gt;</th><th scope=col>&lt;int&gt;</th><th scope=col>&lt;int&gt;</th><th scope=col>&lt;int&gt;</th></tr>\n",
       "</thead>\n",
       "<tbody>\n",
       "\t<tr><th scope=row>1</th><td>Hive1_NC_1</td><td>Hive1_NC</td><td>Nektapoll</td><td>non</td><td>1</td><td>Nektapoll-Control</td><td>1</td><td>1</td><td>1</td><td>1</td><td>1</td><td>1</td><td>0</td><td>0</td><td>0</td><td>0</td><td>1</td><td>6</td></tr>\n",
       "\t<tr><th scope=row>2</th><td>Hive1_NC_2</td><td>Hive1_NC</td><td>Nektapoll</td><td>non</td><td>1</td><td>Nektapoll-Control</td><td>1</td><td>1</td><td>1</td><td>1</td><td>1</td><td>1</td><td>1</td><td>1</td><td>1</td><td>0</td><td>1</td><td>9</td></tr>\n",
       "\t<tr><th scope=row>3</th><td>Hive1_NC_3</td><td>Hive1_NC</td><td>Nektapoll</td><td>non</td><td>1</td><td>Nektapoll-Control</td><td>1</td><td>1</td><td>1</td><td>1</td><td>1</td><td>1</td><td>1</td><td>1</td><td>1</td><td>1</td><td>0</td><td>9</td></tr>\n",
       "\t<tr><th scope=row>4</th><td>Hive1_NC_4</td><td>Hive1_NC</td><td>Nektapoll</td><td>non</td><td>1</td><td>Nektapoll-Control</td><td>1</td><td>1</td><td>1</td><td>1</td><td>1</td><td>1</td><td>1</td><td>1</td><td>1</td><td>1</td><td>0</td><td>9</td></tr>\n",
       "\t<tr><th scope=row>5</th><td>Hive1_NC_5</td><td>Hive1_NC</td><td>Nektapoll</td><td>non</td><td>1</td><td>Nektapoll-Control</td><td>1</td><td>1</td><td>1</td><td>1</td><td>1</td><td>1</td><td>1</td><td>1</td><td>1</td><td>1</td><td>0</td><td>9</td></tr>\n",
       "\t<tr><th scope=row>6</th><td>Hive1_NC_6</td><td>Hive1_NC</td><td>Nektapoll</td><td>non</td><td>1</td><td>Nektapoll-Control</td><td>1</td><td>1</td><td>1</td><td>1</td><td>1</td><td>1</td><td>1</td><td>1</td><td>1</td><td>1</td><td>0</td><td>9</td></tr>\n",
       "</tbody>\n",
       "</table>\n"
      ],
      "text/latex": [
       "A data.frame: 6 × 18\n",
       "\\begin{tabular}{r|llllllllllllllllll}\n",
       "  & bee\\_code & pot\\_code & diet & infection & hive & treatment & day\\_0 & day\\_1 & day\\_2 & day\\_3 & day\\_4 & day\\_5 & day\\_6 & day\\_7 & day\\_8 & day\\_9 & event & dod\\\\\n",
       "  & <chr> & <chr> & <chr> & <chr> & <fct> & <fct> & <int> & <int> & <int> & <int> & <int> & <int> & <int> & <int> & <int> & <int> & <int> & <int>\\\\\n",
       "\\hline\n",
       "\t1 & Hive1\\_NC\\_1 & Hive1\\_NC & Nektapoll & non & 1 & Nektapoll-Control & 1 & 1 & 1 & 1 & 1 & 1 & 0 & 0 & 0 & 0 & 1 & 6\\\\\n",
       "\t2 & Hive1\\_NC\\_2 & Hive1\\_NC & Nektapoll & non & 1 & Nektapoll-Control & 1 & 1 & 1 & 1 & 1 & 1 & 1 & 1 & 1 & 0 & 1 & 9\\\\\n",
       "\t3 & Hive1\\_NC\\_3 & Hive1\\_NC & Nektapoll & non & 1 & Nektapoll-Control & 1 & 1 & 1 & 1 & 1 & 1 & 1 & 1 & 1 & 1 & 0 & 9\\\\\n",
       "\t4 & Hive1\\_NC\\_4 & Hive1\\_NC & Nektapoll & non & 1 & Nektapoll-Control & 1 & 1 & 1 & 1 & 1 & 1 & 1 & 1 & 1 & 1 & 0 & 9\\\\\n",
       "\t5 & Hive1\\_NC\\_5 & Hive1\\_NC & Nektapoll & non & 1 & Nektapoll-Control & 1 & 1 & 1 & 1 & 1 & 1 & 1 & 1 & 1 & 1 & 0 & 9\\\\\n",
       "\t6 & Hive1\\_NC\\_6 & Hive1\\_NC & Nektapoll & non & 1 & Nektapoll-Control & 1 & 1 & 1 & 1 & 1 & 1 & 1 & 1 & 1 & 1 & 0 & 9\\\\\n",
       "\\end{tabular}\n"
      ],
      "text/markdown": [
       "\n",
       "A data.frame: 6 × 18\n",
       "\n",
       "| <!--/--> | bee_code &lt;chr&gt; | pot_code &lt;chr&gt; | diet &lt;chr&gt; | infection &lt;chr&gt; | hive &lt;fct&gt; | treatment &lt;fct&gt; | day_0 &lt;int&gt; | day_1 &lt;int&gt; | day_2 &lt;int&gt; | day_3 &lt;int&gt; | day_4 &lt;int&gt; | day_5 &lt;int&gt; | day_6 &lt;int&gt; | day_7 &lt;int&gt; | day_8 &lt;int&gt; | day_9 &lt;int&gt; | event &lt;int&gt; | dod &lt;int&gt; |\n",
       "|---|---|---|---|---|---|---|---|---|---|---|---|---|---|---|---|---|---|---|\n",
       "| 1 | Hive1_NC_1 | Hive1_NC | Nektapoll | non | 1 | Nektapoll-Control | 1 | 1 | 1 | 1 | 1 | 1 | 0 | 0 | 0 | 0 | 1 | 6 |\n",
       "| 2 | Hive1_NC_2 | Hive1_NC | Nektapoll | non | 1 | Nektapoll-Control | 1 | 1 | 1 | 1 | 1 | 1 | 1 | 1 | 1 | 0 | 1 | 9 |\n",
       "| 3 | Hive1_NC_3 | Hive1_NC | Nektapoll | non | 1 | Nektapoll-Control | 1 | 1 | 1 | 1 | 1 | 1 | 1 | 1 | 1 | 1 | 0 | 9 |\n",
       "| 4 | Hive1_NC_4 | Hive1_NC | Nektapoll | non | 1 | Nektapoll-Control | 1 | 1 | 1 | 1 | 1 | 1 | 1 | 1 | 1 | 1 | 0 | 9 |\n",
       "| 5 | Hive1_NC_5 | Hive1_NC | Nektapoll | non | 1 | Nektapoll-Control | 1 | 1 | 1 | 1 | 1 | 1 | 1 | 1 | 1 | 1 | 0 | 9 |\n",
       "| 6 | Hive1_NC_6 | Hive1_NC | Nektapoll | non | 1 | Nektapoll-Control | 1 | 1 | 1 | 1 | 1 | 1 | 1 | 1 | 1 | 1 | 0 | 9 |\n",
       "\n"
      ],
      "text/plain": [
       "  bee_code   pot_code diet      infection hive treatment         day_0 day_1\n",
       "1 Hive1_NC_1 Hive1_NC Nektapoll non       1    Nektapoll-Control 1     1    \n",
       "2 Hive1_NC_2 Hive1_NC Nektapoll non       1    Nektapoll-Control 1     1    \n",
       "3 Hive1_NC_3 Hive1_NC Nektapoll non       1    Nektapoll-Control 1     1    \n",
       "4 Hive1_NC_4 Hive1_NC Nektapoll non       1    Nektapoll-Control 1     1    \n",
       "5 Hive1_NC_5 Hive1_NC Nektapoll non       1    Nektapoll-Control 1     1    \n",
       "6 Hive1_NC_6 Hive1_NC Nektapoll non       1    Nektapoll-Control 1     1    \n",
       "  day_2 day_3 day_4 day_5 day_6 day_7 day_8 day_9 event dod\n",
       "1 1     1     1     1     0     0     0     0     1     6  \n",
       "2 1     1     1     1     1     1     1     0     1     9  \n",
       "3 1     1     1     1     1     1     1     1     0     9  \n",
       "4 1     1     1     1     1     1     1     1     0     9  \n",
       "5 1     1     1     1     1     1     1     1     0     9  \n",
       "6 1     1     1     1     1     1     1     1     0     9  "
      ]
     },
     "metadata": {},
     "output_type": "display_data"
    }
   ],
   "source": [
    "# convert hive to factor\n",
    "supplementation_survival$hive <- factor(supplementation_survival$hive)\n",
    "supplementation_survival$treatment <- factor(supplementation_survival$treatment)\n",
    "head(supplementation_survival)"
   ]
  },
  {
   "cell_type": "markdown",
   "id": "f4f98880",
   "metadata": {},
   "source": [
    "## 1. Using Cox Proportional Hazards to monitor effect of supplementation on survival over 9 days"
   ]
  },
  {
   "cell_type": "markdown",
   "id": "ce75176c",
   "metadata": {},
   "source": [
    "### 1a - Create propertion dataframe collapsed by pot"
   ]
  },
  {
   "cell_type": "code",
   "execution_count": 24,
   "id": "17d666e1",
   "metadata": {},
   "outputs": [],
   "source": [
    "# group data by pot\n",
    "supplementation_pot <- subset(supplementation_survival, select = -c(bee_code, dod, event))\n",
    "supplementation_pot <- supplementation_pot %>% group_by(infection, diet, hive, pot_code, treatment) %>% summarise_all(list(\"sum\" = sum))\n",
    "\n",
    "# convert frequencies to proportions\n",
    "supplementation_pot[, -(1:5)] <- sweep(supplementation_pot[, -(1:5)], unlist(supplementation_pot[, \"day_0_sum\"]), MARGIN = 1, \"/\")"
   ]
  },
  {
   "cell_type": "code",
   "execution_count": 25,
   "id": "963b8263",
   "metadata": {},
   "outputs": [
    {
     "data": {
      "text/html": [
       "<table class=\"dataframe\">\n",
       "<caption>A grouped_df: 16 × 15</caption>\n",
       "<thead>\n",
       "\t<tr><th scope=col>infection</th><th scope=col>diet</th><th scope=col>hive</th><th scope=col>pot_code</th><th scope=col>treatment</th><th scope=col>day_0_sum</th><th scope=col>day_1_sum</th><th scope=col>day_2_sum</th><th scope=col>day_3_sum</th><th scope=col>day_4_sum</th><th scope=col>day_5_sum</th><th scope=col>day_6_sum</th><th scope=col>day_7_sum</th><th scope=col>day_8_sum</th><th scope=col>day_9_sum</th></tr>\n",
       "\t<tr><th scope=col>&lt;chr&gt;</th><th scope=col>&lt;chr&gt;</th><th scope=col>&lt;fct&gt;</th><th scope=col>&lt;chr&gt;</th><th scope=col>&lt;chr&gt;</th><th scope=col>&lt;dbl&gt;</th><th scope=col>&lt;dbl&gt;</th><th scope=col>&lt;dbl&gt;</th><th scope=col>&lt;dbl&gt;</th><th scope=col>&lt;dbl&gt;</th><th scope=col>&lt;dbl&gt;</th><th scope=col>&lt;dbl&gt;</th><th scope=col>&lt;dbl&gt;</th><th scope=col>&lt;dbl&gt;</th><th scope=col>&lt;dbl&gt;</th></tr>\n",
       "</thead>\n",
       "<tbody>\n",
       "\t<tr><td>Nosema</td><td>Nektapoll</td><td>1</td><td>Hive1_NI</td><td>Nektapoll-Infected</td><td>1</td><td>1</td><td>1.00</td><td>1.00</td><td>1.00</td><td>1.00</td><td>1.00</td><td>1.00</td><td>1.00</td><td>0.95</td></tr>\n",
       "\t<tr><td>Nosema</td><td>Nektapoll</td><td>2</td><td>Hive2_NI</td><td>Nektapoll-Infected</td><td>1</td><td>1</td><td>1.00</td><td>1.00</td><td>1.00</td><td>1.00</td><td>0.95</td><td>0.95</td><td>0.95</td><td>0.90</td></tr>\n",
       "\t<tr><td>Nosema</td><td>Nektapoll</td><td>3</td><td>Hive3_NI</td><td>Nektapoll-Infected</td><td>1</td><td>1</td><td>0.95</td><td>0.95</td><td>0.85</td><td>0.80</td><td>0.80</td><td>0.80</td><td>0.75</td><td>0.75</td></tr>\n",
       "\t<tr><td>Nosema</td><td>Nektapoll</td><td>4</td><td>Hive4_NI</td><td>Nektapoll-Infected</td><td>1</td><td>1</td><td>1.00</td><td>1.00</td><td>1.00</td><td>1.00</td><td>0.95</td><td>0.90</td><td>0.90</td><td>0.85</td></tr>\n",
       "\t<tr><td>Nosema</td><td>Sucrose  </td><td>1</td><td>Hive1_SI</td><td>Sucrose-Infected  </td><td>1</td><td>1</td><td>1.00</td><td>1.00</td><td>1.00</td><td>1.00</td><td>1.00</td><td>1.00</td><td>1.00</td><td>1.00</td></tr>\n",
       "\t<tr><td>Nosema</td><td>Sucrose  </td><td>2</td><td>Hive2_SI</td><td>Sucrose-Infected  </td><td>1</td><td>1</td><td>1.00</td><td>1.00</td><td>1.00</td><td>1.00</td><td>1.00</td><td>1.00</td><td>1.00</td><td>0.95</td></tr>\n",
       "\t<tr><td>Nosema</td><td>Sucrose  </td><td>3</td><td>Hive3_SI</td><td>Sucrose-Infected  </td><td>1</td><td>1</td><td>1.00</td><td>1.00</td><td>1.00</td><td>0.95</td><td>0.95</td><td>0.95</td><td>0.95</td><td>0.95</td></tr>\n",
       "\t<tr><td>Nosema</td><td>Sucrose  </td><td>4</td><td>Hive4_SI</td><td>Sucrose-Infected  </td><td>1</td><td>1</td><td>1.00</td><td>1.00</td><td>1.00</td><td>1.00</td><td>1.00</td><td>1.00</td><td>1.00</td><td>1.00</td></tr>\n",
       "\t<tr><td>non   </td><td>Nektapoll</td><td>1</td><td>Hive1_NC</td><td>Nektapoll-Control </td><td>1</td><td>1</td><td>1.00</td><td>1.00</td><td>1.00</td><td>1.00</td><td>0.95</td><td>0.95</td><td>0.95</td><td>0.90</td></tr>\n",
       "\t<tr><td>non   </td><td>Nektapoll</td><td>2</td><td>Hive2_NC</td><td>Nektapoll-Control </td><td>1</td><td>1</td><td>1.00</td><td>1.00</td><td>1.00</td><td>1.00</td><td>1.00</td><td>1.00</td><td>0.95</td><td>0.95</td></tr>\n",
       "\t<tr><td>non   </td><td>Nektapoll</td><td>3</td><td>Hive3_NC</td><td>Nektapoll-Control </td><td>1</td><td>1</td><td>1.00</td><td>1.00</td><td>1.00</td><td>1.00</td><td>1.00</td><td>1.00</td><td>1.00</td><td>0.95</td></tr>\n",
       "\t<tr><td>non   </td><td>Nektapoll</td><td>4</td><td>Hive4_NC</td><td>Nektapoll-Control </td><td>1</td><td>1</td><td>1.00</td><td>1.00</td><td>1.00</td><td>1.00</td><td>1.00</td><td>0.95</td><td>0.95</td><td>0.95</td></tr>\n",
       "\t<tr><td>non   </td><td>Sucrose  </td><td>1</td><td>Hive1_SC</td><td>Sucrose-Control   </td><td>1</td><td>1</td><td>1.00</td><td>1.00</td><td>1.00</td><td>1.00</td><td>1.00</td><td>1.00</td><td>1.00</td><td>1.00</td></tr>\n",
       "\t<tr><td>non   </td><td>Sucrose  </td><td>2</td><td>Hive2_SC</td><td>Sucrose-Control   </td><td>1</td><td>1</td><td>0.95</td><td>0.95</td><td>0.95</td><td>0.95</td><td>0.95</td><td>0.95</td><td>0.95</td><td>0.95</td></tr>\n",
       "\t<tr><td>non   </td><td>Sucrose  </td><td>3</td><td>Hive3_SC</td><td>Sucrose-Control   </td><td>1</td><td>1</td><td>1.00</td><td>1.00</td><td>0.95</td><td>0.95</td><td>0.90</td><td>0.90</td><td>0.90</td><td>0.90</td></tr>\n",
       "\t<tr><td>non   </td><td>Sucrose  </td><td>4</td><td>Hive4_SC</td><td>Sucrose-Control   </td><td>1</td><td>1</td><td>1.00</td><td>1.00</td><td>1.00</td><td>1.00</td><td>1.00</td><td>1.00</td><td>1.00</td><td>1.00</td></tr>\n",
       "</tbody>\n",
       "</table>\n"
      ],
      "text/latex": [
       "A grouped\\_df: 16 × 15\n",
       "\\begin{tabular}{lllllllllllllll}\n",
       " infection & diet & hive & pot\\_code & treatment & day\\_0\\_sum & day\\_1\\_sum & day\\_2\\_sum & day\\_3\\_sum & day\\_4\\_sum & day\\_5\\_sum & day\\_6\\_sum & day\\_7\\_sum & day\\_8\\_sum & day\\_9\\_sum\\\\\n",
       " <chr> & <chr> & <fct> & <chr> & <chr> & <dbl> & <dbl> & <dbl> & <dbl> & <dbl> & <dbl> & <dbl> & <dbl> & <dbl> & <dbl>\\\\\n",
       "\\hline\n",
       "\t Nosema & Nektapoll & 1 & Hive1\\_NI & Nektapoll-Infected & 1 & 1 & 1.00 & 1.00 & 1.00 & 1.00 & 1.00 & 1.00 & 1.00 & 0.95\\\\\n",
       "\t Nosema & Nektapoll & 2 & Hive2\\_NI & Nektapoll-Infected & 1 & 1 & 1.00 & 1.00 & 1.00 & 1.00 & 0.95 & 0.95 & 0.95 & 0.90\\\\\n",
       "\t Nosema & Nektapoll & 3 & Hive3\\_NI & Nektapoll-Infected & 1 & 1 & 0.95 & 0.95 & 0.85 & 0.80 & 0.80 & 0.80 & 0.75 & 0.75\\\\\n",
       "\t Nosema & Nektapoll & 4 & Hive4\\_NI & Nektapoll-Infected & 1 & 1 & 1.00 & 1.00 & 1.00 & 1.00 & 0.95 & 0.90 & 0.90 & 0.85\\\\\n",
       "\t Nosema & Sucrose   & 1 & Hive1\\_SI & Sucrose-Infected   & 1 & 1 & 1.00 & 1.00 & 1.00 & 1.00 & 1.00 & 1.00 & 1.00 & 1.00\\\\\n",
       "\t Nosema & Sucrose   & 2 & Hive2\\_SI & Sucrose-Infected   & 1 & 1 & 1.00 & 1.00 & 1.00 & 1.00 & 1.00 & 1.00 & 1.00 & 0.95\\\\\n",
       "\t Nosema & Sucrose   & 3 & Hive3\\_SI & Sucrose-Infected   & 1 & 1 & 1.00 & 1.00 & 1.00 & 0.95 & 0.95 & 0.95 & 0.95 & 0.95\\\\\n",
       "\t Nosema & Sucrose   & 4 & Hive4\\_SI & Sucrose-Infected   & 1 & 1 & 1.00 & 1.00 & 1.00 & 1.00 & 1.00 & 1.00 & 1.00 & 1.00\\\\\n",
       "\t non    & Nektapoll & 1 & Hive1\\_NC & Nektapoll-Control  & 1 & 1 & 1.00 & 1.00 & 1.00 & 1.00 & 0.95 & 0.95 & 0.95 & 0.90\\\\\n",
       "\t non    & Nektapoll & 2 & Hive2\\_NC & Nektapoll-Control  & 1 & 1 & 1.00 & 1.00 & 1.00 & 1.00 & 1.00 & 1.00 & 0.95 & 0.95\\\\\n",
       "\t non    & Nektapoll & 3 & Hive3\\_NC & Nektapoll-Control  & 1 & 1 & 1.00 & 1.00 & 1.00 & 1.00 & 1.00 & 1.00 & 1.00 & 0.95\\\\\n",
       "\t non    & Nektapoll & 4 & Hive4\\_NC & Nektapoll-Control  & 1 & 1 & 1.00 & 1.00 & 1.00 & 1.00 & 1.00 & 0.95 & 0.95 & 0.95\\\\\n",
       "\t non    & Sucrose   & 1 & Hive1\\_SC & Sucrose-Control    & 1 & 1 & 1.00 & 1.00 & 1.00 & 1.00 & 1.00 & 1.00 & 1.00 & 1.00\\\\\n",
       "\t non    & Sucrose   & 2 & Hive2\\_SC & Sucrose-Control    & 1 & 1 & 0.95 & 0.95 & 0.95 & 0.95 & 0.95 & 0.95 & 0.95 & 0.95\\\\\n",
       "\t non    & Sucrose   & 3 & Hive3\\_SC & Sucrose-Control    & 1 & 1 & 1.00 & 1.00 & 0.95 & 0.95 & 0.90 & 0.90 & 0.90 & 0.90\\\\\n",
       "\t non    & Sucrose   & 4 & Hive4\\_SC & Sucrose-Control    & 1 & 1 & 1.00 & 1.00 & 1.00 & 1.00 & 1.00 & 1.00 & 1.00 & 1.00\\\\\n",
       "\\end{tabular}\n"
      ],
      "text/markdown": [
       "\n",
       "A grouped_df: 16 × 15\n",
       "\n",
       "| infection &lt;chr&gt; | diet &lt;chr&gt; | hive &lt;fct&gt; | pot_code &lt;chr&gt; | treatment &lt;chr&gt; | day_0_sum &lt;dbl&gt; | day_1_sum &lt;dbl&gt; | day_2_sum &lt;dbl&gt; | day_3_sum &lt;dbl&gt; | day_4_sum &lt;dbl&gt; | day_5_sum &lt;dbl&gt; | day_6_sum &lt;dbl&gt; | day_7_sum &lt;dbl&gt; | day_8_sum &lt;dbl&gt; | day_9_sum &lt;dbl&gt; |\n",
       "|---|---|---|---|---|---|---|---|---|---|---|---|---|---|---|\n",
       "| Nosema | Nektapoll | 1 | Hive1_NI | Nektapoll-Infected | 1 | 1 | 1.00 | 1.00 | 1.00 | 1.00 | 1.00 | 1.00 | 1.00 | 0.95 |\n",
       "| Nosema | Nektapoll | 2 | Hive2_NI | Nektapoll-Infected | 1 | 1 | 1.00 | 1.00 | 1.00 | 1.00 | 0.95 | 0.95 | 0.95 | 0.90 |\n",
       "| Nosema | Nektapoll | 3 | Hive3_NI | Nektapoll-Infected | 1 | 1 | 0.95 | 0.95 | 0.85 | 0.80 | 0.80 | 0.80 | 0.75 | 0.75 |\n",
       "| Nosema | Nektapoll | 4 | Hive4_NI | Nektapoll-Infected | 1 | 1 | 1.00 | 1.00 | 1.00 | 1.00 | 0.95 | 0.90 | 0.90 | 0.85 |\n",
       "| Nosema | Sucrose   | 1 | Hive1_SI | Sucrose-Infected   | 1 | 1 | 1.00 | 1.00 | 1.00 | 1.00 | 1.00 | 1.00 | 1.00 | 1.00 |\n",
       "| Nosema | Sucrose   | 2 | Hive2_SI | Sucrose-Infected   | 1 | 1 | 1.00 | 1.00 | 1.00 | 1.00 | 1.00 | 1.00 | 1.00 | 0.95 |\n",
       "| Nosema | Sucrose   | 3 | Hive3_SI | Sucrose-Infected   | 1 | 1 | 1.00 | 1.00 | 1.00 | 0.95 | 0.95 | 0.95 | 0.95 | 0.95 |\n",
       "| Nosema | Sucrose   | 4 | Hive4_SI | Sucrose-Infected   | 1 | 1 | 1.00 | 1.00 | 1.00 | 1.00 | 1.00 | 1.00 | 1.00 | 1.00 |\n",
       "| non    | Nektapoll | 1 | Hive1_NC | Nektapoll-Control  | 1 | 1 | 1.00 | 1.00 | 1.00 | 1.00 | 0.95 | 0.95 | 0.95 | 0.90 |\n",
       "| non    | Nektapoll | 2 | Hive2_NC | Nektapoll-Control  | 1 | 1 | 1.00 | 1.00 | 1.00 | 1.00 | 1.00 | 1.00 | 0.95 | 0.95 |\n",
       "| non    | Nektapoll | 3 | Hive3_NC | Nektapoll-Control  | 1 | 1 | 1.00 | 1.00 | 1.00 | 1.00 | 1.00 | 1.00 | 1.00 | 0.95 |\n",
       "| non    | Nektapoll | 4 | Hive4_NC | Nektapoll-Control  | 1 | 1 | 1.00 | 1.00 | 1.00 | 1.00 | 1.00 | 0.95 | 0.95 | 0.95 |\n",
       "| non    | Sucrose   | 1 | Hive1_SC | Sucrose-Control    | 1 | 1 | 1.00 | 1.00 | 1.00 | 1.00 | 1.00 | 1.00 | 1.00 | 1.00 |\n",
       "| non    | Sucrose   | 2 | Hive2_SC | Sucrose-Control    | 1 | 1 | 0.95 | 0.95 | 0.95 | 0.95 | 0.95 | 0.95 | 0.95 | 0.95 |\n",
       "| non    | Sucrose   | 3 | Hive3_SC | Sucrose-Control    | 1 | 1 | 1.00 | 1.00 | 0.95 | 0.95 | 0.90 | 0.90 | 0.90 | 0.90 |\n",
       "| non    | Sucrose   | 4 | Hive4_SC | Sucrose-Control    | 1 | 1 | 1.00 | 1.00 | 1.00 | 1.00 | 1.00 | 1.00 | 1.00 | 1.00 |\n",
       "\n"
      ],
      "text/plain": [
       "   infection diet      hive pot_code treatment          day_0_sum day_1_sum\n",
       "1  Nosema    Nektapoll 1    Hive1_NI Nektapoll-Infected 1         1        \n",
       "2  Nosema    Nektapoll 2    Hive2_NI Nektapoll-Infected 1         1        \n",
       "3  Nosema    Nektapoll 3    Hive3_NI Nektapoll-Infected 1         1        \n",
       "4  Nosema    Nektapoll 4    Hive4_NI Nektapoll-Infected 1         1        \n",
       "5  Nosema    Sucrose   1    Hive1_SI Sucrose-Infected   1         1        \n",
       "6  Nosema    Sucrose   2    Hive2_SI Sucrose-Infected   1         1        \n",
       "7  Nosema    Sucrose   3    Hive3_SI Sucrose-Infected   1         1        \n",
       "8  Nosema    Sucrose   4    Hive4_SI Sucrose-Infected   1         1        \n",
       "9  non       Nektapoll 1    Hive1_NC Nektapoll-Control  1         1        \n",
       "10 non       Nektapoll 2    Hive2_NC Nektapoll-Control  1         1        \n",
       "11 non       Nektapoll 3    Hive3_NC Nektapoll-Control  1         1        \n",
       "12 non       Nektapoll 4    Hive4_NC Nektapoll-Control  1         1        \n",
       "13 non       Sucrose   1    Hive1_SC Sucrose-Control    1         1        \n",
       "14 non       Sucrose   2    Hive2_SC Sucrose-Control    1         1        \n",
       "15 non       Sucrose   3    Hive3_SC Sucrose-Control    1         1        \n",
       "16 non       Sucrose   4    Hive4_SC Sucrose-Control    1         1        \n",
       "   day_2_sum day_3_sum day_4_sum day_5_sum day_6_sum day_7_sum day_8_sum\n",
       "1  1.00      1.00      1.00      1.00      1.00      1.00      1.00     \n",
       "2  1.00      1.00      1.00      1.00      0.95      0.95      0.95     \n",
       "3  0.95      0.95      0.85      0.80      0.80      0.80      0.75     \n",
       "4  1.00      1.00      1.00      1.00      0.95      0.90      0.90     \n",
       "5  1.00      1.00      1.00      1.00      1.00      1.00      1.00     \n",
       "6  1.00      1.00      1.00      1.00      1.00      1.00      1.00     \n",
       "7  1.00      1.00      1.00      0.95      0.95      0.95      0.95     \n",
       "8  1.00      1.00      1.00      1.00      1.00      1.00      1.00     \n",
       "9  1.00      1.00      1.00      1.00      0.95      0.95      0.95     \n",
       "10 1.00      1.00      1.00      1.00      1.00      1.00      0.95     \n",
       "11 1.00      1.00      1.00      1.00      1.00      1.00      1.00     \n",
       "12 1.00      1.00      1.00      1.00      1.00      0.95      0.95     \n",
       "13 1.00      1.00      1.00      1.00      1.00      1.00      1.00     \n",
       "14 0.95      0.95      0.95      0.95      0.95      0.95      0.95     \n",
       "15 1.00      1.00      0.95      0.95      0.90      0.90      0.90     \n",
       "16 1.00      1.00      1.00      1.00      1.00      1.00      1.00     \n",
       "   day_9_sum\n",
       "1  0.95     \n",
       "2  0.90     \n",
       "3  0.75     \n",
       "4  0.85     \n",
       "5  1.00     \n",
       "6  0.95     \n",
       "7  0.95     \n",
       "8  1.00     \n",
       "9  0.90     \n",
       "10 0.95     \n",
       "11 0.95     \n",
       "12 0.95     \n",
       "13 1.00     \n",
       "14 0.95     \n",
       "15 0.90     \n",
       "16 1.00     "
      ]
     },
     "metadata": {},
     "output_type": "display_data"
    }
   ],
   "source": [
    "supplementation_pot"
   ]
  },
  {
   "cell_type": "markdown",
   "id": "27dd1bd3",
   "metadata": {},
   "source": [
    "### 1b - Make summary survival tables form the pot tables"
   ]
  },
  {
   "cell_type": "code",
   "execution_count": 27,
   "id": "e842e71f",
   "metadata": {},
   "outputs": [
    {
     "data": {
      "text/html": [
       "<table class=\"dataframe\">\n",
       "<caption>A tibble: 4 × 11</caption>\n",
       "<thead>\n",
       "\t<tr><th scope=col>treatment</th><th scope=col>day_0_sum_mean</th><th scope=col>day_1_sum_mean</th><th scope=col>day_2_sum_mean</th><th scope=col>day_3_sum_mean</th><th scope=col>day_4_sum_mean</th><th scope=col>day_5_sum_mean</th><th scope=col>day_6_sum_mean</th><th scope=col>day_7_sum_mean</th><th scope=col>day_8_sum_mean</th><th scope=col>day_9_sum_mean</th></tr>\n",
       "\t<tr><th scope=col>&lt;chr&gt;</th><th scope=col>&lt;dbl&gt;</th><th scope=col>&lt;dbl&gt;</th><th scope=col>&lt;dbl&gt;</th><th scope=col>&lt;dbl&gt;</th><th scope=col>&lt;dbl&gt;</th><th scope=col>&lt;dbl&gt;</th><th scope=col>&lt;dbl&gt;</th><th scope=col>&lt;dbl&gt;</th><th scope=col>&lt;dbl&gt;</th><th scope=col>&lt;dbl&gt;</th></tr>\n",
       "</thead>\n",
       "<tbody>\n",
       "\t<tr><td>Nektapoll-Control </td><td>1</td><td>1</td><td>1.0000</td><td>1.0000</td><td>1.0000</td><td>1.0000</td><td>0.9875</td><td>0.9750</td><td>0.9625</td><td>0.9375</td></tr>\n",
       "\t<tr><td>Nektapoll-Infected</td><td>1</td><td>1</td><td>0.9875</td><td>0.9875</td><td>0.9625</td><td>0.9500</td><td>0.9250</td><td>0.9125</td><td>0.9000</td><td>0.8625</td></tr>\n",
       "\t<tr><td>Sucrose-Control   </td><td>1</td><td>1</td><td>0.9875</td><td>0.9875</td><td>0.9750</td><td>0.9750</td><td>0.9625</td><td>0.9625</td><td>0.9625</td><td>0.9625</td></tr>\n",
       "\t<tr><td>Sucrose-Infected  </td><td>1</td><td>1</td><td>1.0000</td><td>1.0000</td><td>1.0000</td><td>0.9875</td><td>0.9875</td><td>0.9875</td><td>0.9875</td><td>0.9750</td></tr>\n",
       "</tbody>\n",
       "</table>\n"
      ],
      "text/latex": [
       "A tibble: 4 × 11\n",
       "\\begin{tabular}{lllllllllll}\n",
       " treatment & day\\_0\\_sum\\_mean & day\\_1\\_sum\\_mean & day\\_2\\_sum\\_mean & day\\_3\\_sum\\_mean & day\\_4\\_sum\\_mean & day\\_5\\_sum\\_mean & day\\_6\\_sum\\_mean & day\\_7\\_sum\\_mean & day\\_8\\_sum\\_mean & day\\_9\\_sum\\_mean\\\\\n",
       " <chr> & <dbl> & <dbl> & <dbl> & <dbl> & <dbl> & <dbl> & <dbl> & <dbl> & <dbl> & <dbl>\\\\\n",
       "\\hline\n",
       "\t Nektapoll-Control  & 1 & 1 & 1.0000 & 1.0000 & 1.0000 & 1.0000 & 0.9875 & 0.9750 & 0.9625 & 0.9375\\\\\n",
       "\t Nektapoll-Infected & 1 & 1 & 0.9875 & 0.9875 & 0.9625 & 0.9500 & 0.9250 & 0.9125 & 0.9000 & 0.8625\\\\\n",
       "\t Sucrose-Control    & 1 & 1 & 0.9875 & 0.9875 & 0.9750 & 0.9750 & 0.9625 & 0.9625 & 0.9625 & 0.9625\\\\\n",
       "\t Sucrose-Infected   & 1 & 1 & 1.0000 & 1.0000 & 1.0000 & 0.9875 & 0.9875 & 0.9875 & 0.9875 & 0.9750\\\\\n",
       "\\end{tabular}\n"
      ],
      "text/markdown": [
       "\n",
       "A tibble: 4 × 11\n",
       "\n",
       "| treatment &lt;chr&gt; | day_0_sum_mean &lt;dbl&gt; | day_1_sum_mean &lt;dbl&gt; | day_2_sum_mean &lt;dbl&gt; | day_3_sum_mean &lt;dbl&gt; | day_4_sum_mean &lt;dbl&gt; | day_5_sum_mean &lt;dbl&gt; | day_6_sum_mean &lt;dbl&gt; | day_7_sum_mean &lt;dbl&gt; | day_8_sum_mean &lt;dbl&gt; | day_9_sum_mean &lt;dbl&gt; |\n",
       "|---|---|---|---|---|---|---|---|---|---|---|\n",
       "| Nektapoll-Control  | 1 | 1 | 1.0000 | 1.0000 | 1.0000 | 1.0000 | 0.9875 | 0.9750 | 0.9625 | 0.9375 |\n",
       "| Nektapoll-Infected | 1 | 1 | 0.9875 | 0.9875 | 0.9625 | 0.9500 | 0.9250 | 0.9125 | 0.9000 | 0.8625 |\n",
       "| Sucrose-Control    | 1 | 1 | 0.9875 | 0.9875 | 0.9750 | 0.9750 | 0.9625 | 0.9625 | 0.9625 | 0.9625 |\n",
       "| Sucrose-Infected   | 1 | 1 | 1.0000 | 1.0000 | 1.0000 | 0.9875 | 0.9875 | 0.9875 | 0.9875 | 0.9750 |\n",
       "\n"
      ],
      "text/plain": [
       "  treatment          day_0_sum_mean day_1_sum_mean day_2_sum_mean\n",
       "1 Nektapoll-Control  1              1              1.0000        \n",
       "2 Nektapoll-Infected 1              1              0.9875        \n",
       "3 Sucrose-Control    1              1              0.9875        \n",
       "4 Sucrose-Infected   1              1              1.0000        \n",
       "  day_3_sum_mean day_4_sum_mean day_5_sum_mean day_6_sum_mean day_7_sum_mean\n",
       "1 1.0000         1.0000         1.0000         0.9875         0.9750        \n",
       "2 0.9875         0.9625         0.9500         0.9250         0.9125        \n",
       "3 0.9875         0.9750         0.9750         0.9625         0.9625        \n",
       "4 1.0000         1.0000         0.9875         0.9875         0.9875        \n",
       "  day_8_sum_mean day_9_sum_mean\n",
       "1 0.9625         0.9375        \n",
       "2 0.9000         0.8625        \n",
       "3 0.9625         0.9625        \n",
       "4 0.9875         0.9750        "
      ]
     },
     "metadata": {},
     "output_type": "display_data"
    }
   ],
   "source": [
    "supplementation.treatment = subset(supplementation_pot, select = -c(diet, hive, pot_code, infection))\n",
    "supplementation.treatment.sum <- supplementation.treatment %>% group_by(treatment) %>% summarise_all(list(\"mean\" = mean))\n",
    "supplementation.treatment.sum\n",
    "# from this, it looks as if Nektapoll-Infected treatment had lower survival than sucrose-infected,\n",
    "# will have to see if this is significant"
   ]
  },
  {
   "cell_type": "markdown",
   "id": "d2a7cb66",
   "metadata": {},
   "source": [
    "## 3. Plotting the survival probability data"
   ]
  },
  {
   "cell_type": "code",
   "execution_count": 34,
   "id": "6a278f87",
   "metadata": {},
   "outputs": [
    {
     "name": "stderr",
     "output_type": "stream",
     "text": [
      "Warning message in .add_surv_median(p, fit, type = surv.median.line, fun = fun, :\n",
      "“Median survival not reached.”\n"
     ]
    },
    {
     "data": {
      "image/png": "[encoded data removed]",
      "text/plain": [
       "plot without title"
      ]
     },
     "metadata": {
      "image/png": {
       "height": 420,
       "width": 420
      }
     },
     "output_type": "display_data"
    }
   ],
   "source": [
    "# now we have summarised the data by treatment, it is now time to analyse it\n",
    "# we can run fit function plots to look at the data\n",
    "survfit.supplementation <- survfit(Surv(dod, event) ~ treatment, data = supplementation_survival) \n",
    "\n",
    "# then creat a Kaplan-Meier curve with the nektapoll treatments\n",
    "km.supplementation <- ggsurvplot(survfit.supplementation, data = supplementation_survival, pval = FALSE,\n",
    "                           title = \"\", font.y = 9,font.x =9, font.tickslab = 8, xlab = \"Time (days)\", font.legend=8, legend.labs =\n",
    "                             c(\"Nektapoll-Control\", \"Nektapoll-Infected\", \"Sucrose-Control\", \"Sucrose-Infected\"), \n",
    "                           legend.title = \"Treatment:\", time.inc = 1, xlim = c(0,9), palette = \"npg\", linetype = \"solid\", \n",
    "                           surv.median.line = \"h\", legend = \"top\", break.time.by = 3) + guides(colour = guide_legend(nrow = 2))\n",
    "km.supplementation\n",
    "# not very informative, such small differences in survival that it's hard to make out. Only thing that's clear\n",
    "# is that Nektapoll-Infected has the lowest survival"
   ]
  },
  {
   "cell_type": "markdown",
   "id": "bddfdc3c",
   "metadata": {},
   "source": [
    "## 4. Statistical Comparison of the treatments"
   ]
  },
  {
   "cell_type": "code",
   "execution_count": 38,
   "id": "22443eb3",
   "metadata": {},
   "outputs": [],
   "source": [
    "# gonna relevel the treatments so that sucrose control appears first\n",
    "supplementation_survival$treatment <- relevel(supplementation_survival$treatment, ref = \"Sucrose-Control\")"
   ]
  },
  {
   "cell_type": "code",
   "execution_count": 40,
   "id": "76da4b52",
   "metadata": {},
   "outputs": [
    {
     "data": {
      "text/plain": [
       "Call:\n",
       "coxph(formula = Surv(dod, event) ~ treatment + hive, data = supplementation_survival)\n",
       "\n",
       "                               coef exp(coef) se(coef)      z      p\n",
       "treatmentNektapoll-Control   0.4832    1.6212   0.7304  0.662 0.5083\n",
       "treatmentNektapoll-Infected  1.3620    3.9039   0.6515  2.090 0.0366\n",
       "treatmentSucrose-Infected   -0.4308    0.6500   0.9129 -0.472 0.6370\n",
       "hive2                        0.5294    1.6980   0.7303  0.725 0.4685\n",
       "hive3                        1.2063    3.3412   0.6671  1.808 0.0705\n",
       "hive4                        0.3119    1.3660   0.7638  0.408 0.6830\n",
       "\n",
       "Likelihood ratio test=13.63  on 6 df, p=0.03401\n",
       "n= 320, number of events= 21 "
      ]
     },
     "metadata": {},
     "output_type": "display_data"
    }
   ],
   "source": [
    "# run cox regression to understand if the different treatments cause significant losses compared to the control\n",
    "supplementation.coxph <- coxph(Surv(dod, event) ~ treatment + hive, data = supplementation_survival)\n",
    "supplementation.coxph"
   ]
  },
  {
   "cell_type": "code",
   "execution_count": 42,
   "id": "0f9cc03f",
   "metadata": {},
   "outputs": [
    {
     "data": {
      "text/plain": [
       "          chisq df    p\n",
       "treatment  5.58  3 0.13\n",
       "hive       4.93  3 0.18\n",
       "GLOBAL    10.64  6 0.10"
      ]
     },
     "metadata": {},
     "output_type": "display_data"
    }
   ],
   "source": [
    "# check we don't violate assumptions\n",
    "coxassump = cox.zph(supplementation.coxph)\n",
    "coxassump\n",
    "# all over 0.05, so no problems here with violation"
   ]
  },
  {
   "cell_type": "markdown",
   "id": "2be4573d",
   "metadata": {},
   "source": [
    "regression shows that it seems none of the treatments have significantly reduced survival compared to the control. Suggesting that potentially pollen supplementation does not increase survival of nosema"
   ]
  },
  {
   "cell_type": "code",
   "execution_count": null,
   "id": "25ceb626",
   "metadata": {},
   "outputs": [],
   "source": []
  }
 ],
 "metadata": {
  "kernelspec": {
   "display_name": "R",
   "language": "R",
   "name": "ir"
  },
  "language_info": {
   "codemirror_mode": "r",
   "file_extension": ".r",
   "mimetype": "text/x-r-source",
   "name": "R",
   "pygments_lexer": "r",
   "version": "4.3.1"
  }
 },
 "nbformat": 4,
 "nbformat_minor": 5
}
